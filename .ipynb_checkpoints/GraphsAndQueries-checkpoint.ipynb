{
 "cells": [
  {
   "cell_type": "markdown",
   "id": "70adeeea",
   "metadata": {},
   "source": [
    "### Loading Quran Data Into a Graph\n"
   ]
  },
  {
   "cell_type": "code",
   "execution_count": null,
   "id": "4a9660b1",
   "metadata": {},
   "outputs": [],
   "source": [
    "from rdflib import Graph, Namespace\n",
    "from rdflib.namespace import RDF\n",
    "\n",
    "g_quran = Graph()\n",
    "g_quran.parse(\"quran_data_full.ttl\", format=\"turtle\")\n"
   ]
  },
  {
   "cell_type": "markdown",
   "id": "f5e9bf63",
   "metadata": {},
   "source": [
    "### Loading Semantic Hadith Data Into a Graph\n"
   ]
  },
  {
   "cell_type": "code",
   "execution_count": null,
   "id": "11b11ada",
   "metadata": {},
   "outputs": [],
   "source": [
    "\n",
    "\n",
    "g_hadith = Graph()\n",
    "g_hadith.parse(\"SemanticHadithKG.rdf\")\n",
    "\n",
    "\n"
   ]
  },
  {
   "cell_type": "markdown",
   "id": "3444018a",
   "metadata": {},
   "source": [
    "#### Loading Duas Data Into a Graph\n"
   ]
  },
  {
   "cell_type": "code",
   "execution_count": null,
   "id": "b2abb1bc",
   "metadata": {},
   "outputs": [],
   "source": [
    "g_dua = Graph()\n",
    "g_dua.parse(\"Populated_Dua_KG.ttl\", format=\"turtle\")\n"
   ]
  },
  {
   "cell_type": "markdown",
   "id": "c61c9fda",
   "metadata": {},
   "source": [
    "#### Running a simple query on Duas Graph"
   ]
  },
  {
   "cell_type": "code",
   "execution_count": null,
   "id": "0b42238f",
   "metadata": {},
   "outputs": [],
   "source": [
    "qres = g_dua.query(\n",
    "    \"\"\"\n",
    "        PREFIX : <http://www.semanticweb.org/szm/dua-ontology#>\n",
    "        SELECT ?s ?p ?o \n",
    "        WHERE {\n",
    "            ?s rdf:type :Dua .\n",
    "        }\n",
    "        LIMIT 10\n",
    "    \"\"\"\n",
    ")\n",
    "\n",
    "# Print the results\n",
    "for row in qres:\n",
    "    print(f' {row.s} {row.p} {row.o}')\n",
    "    "
   ]
  },
  {
   "cell_type": "markdown",
   "id": "e0e5760e",
   "metadata": {},
   "source": [
    "#### Running a simple query on Quran's Graph"
   ]
  },
  {
   "cell_type": "code",
   "execution_count": null,
   "id": "91dd2691",
   "metadata": {},
   "outputs": [],
   "source": [
    "# Run the query\n",
    "qres = g_quran.query(\n",
    "    \"\"\"\n",
    "        SELECT ?s ?p ?o \n",
    "        WHERE {\n",
    "            ?s ?p ?o .\n",
    "        }\n",
    "        LIMIT 10\n",
    "    \"\"\"\n",
    ")\n",
    "\n",
    "# Print the results\n",
    "for row in qres:\n",
    "    print(\"<%s> <%s> <%s>.\" % ( row.s, row.p, row.o))\n"
   ]
  },
  {
   "cell_type": "markdown",
   "id": "39698590",
   "metadata": {},
   "source": [
    "#### Running a query to fetch verses and their labels"
   ]
  },
  {
   "cell_type": "code",
   "execution_count": null,
   "id": "d9a834ad",
   "metadata": {},
   "outputs": [],
   "source": [
    "qres = g_quran.query(\n",
    "    \n",
    "    \"\"\"\n",
    "    PREFIX : <http://quranontology.com/Resource/>\n",
    "    SELECT ?s ?p ?o\n",
    "    WHERE {\n",
    "        ?s rdf:type :Verse .\n",
    "        ?s rdfs:label ?o\n",
    "    }\n",
    "    LIMIT 10\n",
    "\n",
    "    \"\"\"\n",
    ")\n",
    "\n",
    "# Print the results\n",
    "for row in qres:\n",
    "    print(f'Verse: {row.s} RDFS:Label : {row.o}')\n",
    "    "
   ]
  },
  {
   "cell_type": "markdown",
   "id": "8685d9da",
   "metadata": {},
   "source": [
    "#### Findind tuples linked with predicate ' :MentionedIn ' "
   ]
  },
  {
   "cell_type": "code",
   "execution_count": null,
   "id": "2b866caa",
   "metadata": {},
   "outputs": [],
   "source": [
    "qres = g_quran.query(\n",
    "    \n",
    "    \"\"\"\n",
    "    PREFIX : <http://quranontology.com/Resource/>\n",
    "    SELECT ?s ?o\n",
    "    WHERE {\n",
    "        ?s :MentionedIn ?o .\n",
    "    }\n",
    "    Limit 10\n",
    "\n",
    "    \"\"\"\n",
    "    \n",
    ")\n",
    "\n",
    "i = 1\n",
    "\n",
    "# Print the results\n",
    "for row in qres:\n",
    "    print(f' res {i} {row.s} :MentionedIn {row.o}')\n",
    "    i += 1"
   ]
  },
  {
   "cell_type": "markdown",
   "id": "fd33cecb",
   "metadata": {},
   "source": [
    "####  Running a simple query on hadith graph"
   ]
  },
  {
   "cell_type": "code",
   "execution_count": null,
   "id": "27aeecf5",
   "metadata": {},
   "outputs": [],
   "source": [
    "# Run the query\n",
    "qres = g_hadith.query(\n",
    "    \"\"\"\n",
    "        SELECT ?s ?p ?o \n",
    "        WHERE {\n",
    "            ?s ?p ?o .\n",
    "        }\n",
    "        LIMIT 10\n",
    "    \"\"\"\n",
    ")\n",
    "\n",
    "# Print the results\n",
    "for row in qres:\n",
    "    print(\"<%s> <%s> <%s>.\" % ( row.s, row.p, row.o))\n"
   ]
  },
  {
   "cell_type": "code",
   "execution_count": null,
   "id": "e65c4446",
   "metadata": {},
   "outputs": [],
   "source": []
  }
 ],
 "metadata": {
  "kernelspec": {
   "display_name": "Python 3 (ipykernel)",
   "language": "python",
   "name": "python3"
  },
  "language_info": {
   "codemirror_mode": {
    "name": "ipython",
    "version": 3
   },
   "file_extension": ".py",
   "mimetype": "text/x-python",
   "name": "python",
   "nbconvert_exporter": "python",
   "pygments_lexer": "ipython3",
   "version": "3.10.7"
  }
 },
 "nbformat": 4,
 "nbformat_minor": 5
}
