{
 "cells": [
  {
   "cell_type": "markdown",
   "id": "70adeeea",
   "metadata": {},
   "source": [
    "### Loading Quran Data Into a Graph\n"
   ]
  },
  {
   "cell_type": "code",
   "execution_count": 1,
   "id": "4a9660b1",
   "metadata": {},
   "outputs": [
    {
     "data": {
      "text/plain": [
       "<Graph identifier=N54a0c7e2a7a14a998957f8b234aadf13 (<class 'rdflib.graph.Graph'>)>"
      ]
     },
     "execution_count": 1,
     "metadata": {},
     "output_type": "execute_result"
    }
   ],
   "source": [
    "from rdflib import Graph, Namespace\n",
    "from rdflib.namespace import RDF\n",
    "\n",
    "g_quran = Graph()\n",
    "g_quran.parse(\"quran_data_full.ttl\", format=\"turtle\")\n"
   ]
  },
  {
   "cell_type": "markdown",
   "id": "f5e9bf63",
   "metadata": {},
   "source": [
    "### Loading Semantic Hadith Data Into a Graph\n"
   ]
  },
  {
   "cell_type": "code",
   "execution_count": 2,
   "id": "11b11ada",
   "metadata": {},
   "outputs": [
    {
     "data": {
      "text/plain": [
       "<Graph identifier=Ne09271686e02444d95082f4f70553335 (<class 'rdflib.graph.Graph'>)>"
      ]
     },
     "execution_count": 2,
     "metadata": {},
     "output_type": "execute_result"
    }
   ],
   "source": [
    "\n",
    "\n",
    "g_hadith = Graph()\n",
    "g_hadith.parse(\"SemanticHadithKG.rdf\")\n",
    "\n",
    "\n"
   ]
  },
  {
   "cell_type": "markdown",
   "id": "3444018a",
   "metadata": {},
   "source": [
    "#### Loading Duas Data Into a Graph\n"
   ]
  },
  {
   "cell_type": "code",
   "execution_count": 3,
   "id": "b2abb1bc",
   "metadata": {},
   "outputs": [
    {
     "data": {
      "text/plain": [
       "<Graph identifier=Ne12fd459a38e440581acef9151dde37b (<class 'rdflib.graph.Graph'>)>"
      ]
     },
     "execution_count": 3,
     "metadata": {},
     "output_type": "execute_result"
    }
   ],
   "source": [
    "g_dua = Graph()\n",
    "g_dua.parse(\"Populated_Dua_KG.ttl\", format=\"turtle\")\n"
   ]
  },
  {
   "cell_type": "markdown",
   "id": "f20ed4bf",
   "metadata": {},
   "source": [
    "## Competency Questions"
   ]
  },
  {
   "cell_type": "markdown",
   "id": "00064e62",
   "metadata": {},
   "source": [
    "#### 1. Which Duas are in the Qur’an?"
   ]
  },
  {
   "cell_type": "code",
   "execution_count": 26,
   "id": "6bb7a9ad",
   "metadata": {},
   "outputs": [
    {
     "name": "stdout",
     "output_type": "stream",
     "text": [
      "Following are the duas mentioned in Quran \n",
      "\n",
      " Title: انشراح صدر کی دعا \n",
      " UrduText: اے میرے رب! میرا سینہ کھول دے اور میرا کام آسان کر دے اور میری زبان کی گرہ کھول دے تاکہ وہ میری بات سمجھ سکیں \n",
      " ArabicText: رَبِّ اشْرَحْ لِي صَدْرِي ۝ وَيَسِّرْ لِي أَمْرِي ۝ وَاحْلُلْ عُقْدَةً مِّن لِّسَانِي ۝ يَفْقَهُوا قَوْلِي ۝ \n",
      "\n",
      " Title: علم میں اضافے کی دعا \n",
      " UrduText: اے میرے رب ! میرے علم میں اضافہ فرما \n",
      " ArabicText: رَبِّ زِدْنِیْ عِلْمًا \n",
      "\n"
     ]
    }
   ],
   "source": [
    "qres = g_dua.query(\n",
    "    \"\"\"\n",
    "        PREFIX : <http://www.semanticweb.org/szm/dua-ontology#>\n",
    "        SELECT ?duaTitle ?urduText ?arabic \n",
    "        WHERE {\n",
    "            ?dua rdf:type :QuranicDua .\n",
    "            ?dua :duaUrduTitle ?duaTitle.\n",
    "            ?dua :duaUrduText ?urduText.\n",
    "            ?dua :duaArabicText ?arabic\n",
    "        }\n",
    "        LIMIT 2\n",
    "    \"\"\"\n",
    ")\n",
    "\n",
    "print('Following are the duas mentioned in Quran \\n')\n",
    "# Print the results\n",
    "for row in qres:\n",
    "    print(f' Title: {row.duaTitle} \\n UrduText: {row.urduText} \\n ArabicText: {row.arabic} \\n')\n",
    "    "
   ]
  },
  {
   "cell_type": "markdown",
   "id": "43432884",
   "metadata": {},
   "source": [
    "#### 2. Which duas should be recited in the evening?"
   ]
  },
  {
   "cell_type": "code",
   "execution_count": 50,
   "id": "9df303fc",
   "metadata": {},
   "outputs": [
    {
     "name": "stdout",
     "output_type": "stream",
     "text": [
      "Following are the dua that should be recited in the evening \n",
      "\n",
      " Title: شام  کے  اذکار \n",
      " UrduText: پاک ہے ﷲ اور اسی کی تعریف ہے اس کی مخلوق کی تعداد کے برابر، اس کی ذات کی رضا کے برابر، اس کے عرش کے وزن اور اس کے کلمات کی سیاہی کے برابر \r\n",
      "(تین بار) \n",
      " ArabicText: سُبْحَانَ ﷲِ وَ بِحَمْدِهِ عَدَدَ خَلْقِهِ وَ رِضَا نَفْسِهِ وَ زِنَةَ عَرْشِهِ وَ مِدَادَ كَلِمَاتِهِ\r\n",
      "[ 3x ] \n",
      " \n",
      " Title: شام  کے  اذکار \n",
      " UrduText: الله کے سوا کوئی معبود نہیں، وه زنده اور قائم رہنے والا ہے، اسے نه اونگھ آتی ہے نه نیند، اسی کے لیے ہے جو آسمانوں اور زمین میں ہے، کون ہے جو اس کی اجازت کے بغیر اس کے سامنے شفاعت کرسکے، وه جانتا ہے جو ان کے آگے اور پیچھے ہے، اور وه اس کے علم میں سے کسی چیز کا احاطه نہیں کرسکتے سوائے اس کے جو وه چاہے، اس کی کرسی آسمانوں اور زمین تک  وسیع  ہے اور ان کی حفاظت اسے نہیں تھکاتی اور وه بہت بلند اور بہت عظمت والا ہے\r\n",
      "(ایک بار) \n",
      " ArabicText: اَللهُ لَآ اِلٰهَ اِلاَّ هُوَ الْحَیُّ الْقَیُّوْمُ لَا تَاْخُذُهُ سِنَةٌ وَّ لَا نَوْم ٌ لَهُ مَا فِی السَّمٰوٰتِ وَ مَا فِی الْاَرْضِ مَنْ ذَا الَّذِیْ یَشْفَعُ عِنْدَهُ اِلَّا بِاِذْنِهٖ  یَعْلَمُ مَا بَیْنَ اَیْدِیْهِمْ وَ مَا خَلْفَهُمْ وَ لَا یُحِیْطُوْنَ بِشَیْءٍ مِّنْ عِلْمِهٖ  اِلَّا بِمَا شَآءَ وَسِعَ كُرْسِیُّهُ السَّمٰوٰتِ وَ الْاَرْضَ وَ لَا یَؤُدُهُ حِفْظُهُمَا وَ هُوَ الْعَلِیُّ الْعَظِیْمُ ۝ \n",
      " \n"
     ]
    }
   ],
   "source": [
    "qres = g_dua.query(\n",
    "    \"\"\"\n",
    "        PREFIX : <http://www.semanticweb.org/szm/dua-ontology#>\n",
    "        SELECT ?duaTitle ?urduText ?arabic \n",
    "        WHERE {\n",
    "            ?dua rdf:type :Dua .\n",
    "            ?dua :duaUrduTitle ?duaTitle.\n",
    "            ?dua :duaUrduText ?urduText.\n",
    "            ?dua :duaArabicText ?arabic.\n",
    "            ?dua :duaEnglishTitle ?engTitle.\n",
    "            FILTER (regex(?engTitle, \"Evening Supplications*\"))\n",
    "        }\n",
    "        LIMIT 2\n",
    "    \"\"\"\n",
    ")\n",
    "\n",
    "print('Following are the dua that should be recited in the evening \\n')\n",
    "# Print the results\n",
    "for row in qres:\n",
    "    print(f' Title: {row.duaTitle} \\n UrduText: {row.urduText} \\n ArabicText: {row.arabic} \\n ')\n",
    "    "
   ]
  },
  {
   "cell_type": "markdown",
   "id": "c61c9fda",
   "metadata": {},
   "source": [
    "#### Running a simple query on Duas Graph"
   ]
  },
  {
   "cell_type": "code",
   "execution_count": 4,
   "id": "0b42238f",
   "metadata": {},
   "outputs": [
    {
     "name": "stdout",
     "output_type": "stream",
     "text": [
      " http://www.semanticweb.org/szm/dua-ontology#Dua-Accepted-01 None None\n",
      " http://www.semanticweb.org/szm/dua-ontology#Dua-Accepted-02 None None\n",
      " http://www.semanticweb.org/szm/dua-ontology#Dua-Accepted-03 None None\n",
      " http://www.semanticweb.org/szm/dua-ontology#Dua-Accepted-04 None None\n",
      " http://www.semanticweb.org/szm/dua-ontology#Dua-Accepted-05 None None\n",
      " http://www.semanticweb.org/szm/dua-ontology#Dua-Accepted-06 None None\n",
      " http://www.semanticweb.org/szm/dua-ontology#Dua-AfterSalah-01 None None\n",
      " http://www.semanticweb.org/szm/dua-ontology#Dua-AfterSalah-02 None None\n",
      " http://www.semanticweb.org/szm/dua-ontology#Dua-AfterSalah-03 None None\n",
      " http://www.semanticweb.org/szm/dua-ontology#Dua-AfterSalah-04 None None\n"
     ]
    }
   ],
   "source": [
    "qres = g_dua.query(\n",
    "    \"\"\"\n",
    "        PREFIX : <http://www.semanticweb.org/szm/dua-ontology#>\n",
    "        SELECT ?s ?p ?o \n",
    "        WHERE {\n",
    "            ?s rdf:type :Dua .\n",
    "        }\n",
    "        LIMIT 10\n",
    "    \"\"\"\n",
    ")\n",
    "\n",
    "# Print the results\n",
    "for row in qres:\n",
    "    print(f' {row.s} {row.p} {row.o}')\n",
    "    "
   ]
  },
  {
   "cell_type": "markdown",
   "id": "e0e5760e",
   "metadata": {},
   "source": [
    "#### Running a simple query on Quran's Graph"
   ]
  },
  {
   "cell_type": "code",
   "execution_count": 5,
   "id": "91dd2691",
   "metadata": {},
   "outputs": [
    {
     "name": "stdout",
     "output_type": "stream",
     "text": [
      "<http://quranontology.com/Resource/quran6-42-7-1> <http://quranontology.com/Resource/IsPartOf> <http://quranontology.com/Resource/quran6-42>.\n",
      "<http://quranontology.com/Resource/quran23-28> <http://www.w3.org/1999/02/22-rdf-syntax-ns#type> <http://www.w3.org/2002/07/owl#NamedIndividual>.\n",
      "<http://quranontology.com/Resource/quran3-114-6> <http://quranontology.com/Resource/DisplayText> <بِٱلْمَعْرُوفِ>.\n",
      "<http://quranontology.com/Resource/quran6-6-1> <http://quranontology.com/Resource/WordRoot> <لم>.\n",
      "<http://quranontology.com/Resource/quran23-11-1> <http://quranontology.com/Resource/WordIndex> <1>.\n",
      "<http://quranontology.com/Resource/Harun> <http://quranontology.com/Resource/MentionedIn> <http://quranontology.com/Resource/quran37-120>.\n",
      "<http://quranontology.com/Resource/quran30-53-6> <http://www.w3.org/2002/07/owl#SameAs> <http://mlode.nlp2rdf.org/semanticquran/quran30-53-6-ar>.\n",
      "<http://quranontology.com/Resource/quran27-47-11-1> <http://www.w3.org/1999/02/22-rdf-syntax-ns#type> <http://quranontology.com/Resource/PronounRefDifferentVerse>.\n",
      "<http://quranontology.com/Resource/quran15-18-3> <http://quranontology.com/Resource/VerseIndex> <18>.\n",
      "<http://quranontology.com/Resource/quran15-96-5> <http://quranontology.com/Resource/ChapterIndex> <15>.\n"
     ]
    }
   ],
   "source": [
    "# Run the query\n",
    "qres = g_quran.query(\n",
    "    \"\"\"\n",
    "        SELECT ?s ?p ?o \n",
    "        WHERE {\n",
    "            ?s ?p ?o .\n",
    "        }\n",
    "        LIMIT 10\n",
    "    \"\"\"\n",
    ")\n",
    "\n",
    "# Print the results\n",
    "for row in qres:\n",
    "    print(\"<%s> <%s> <%s>.\" % ( row.s, row.p, row.o))\n"
   ]
  },
  {
   "cell_type": "markdown",
   "id": "39698590",
   "metadata": {},
   "source": [
    "#### Running a query to fetch verses and their labels"
   ]
  },
  {
   "cell_type": "code",
   "execution_count": 6,
   "id": "d9a834ad",
   "metadata": {},
   "outputs": [
    {
     "name": "stdout",
     "output_type": "stream",
     "text": [
      "Verse: http://quranontology.com/Resource/quran101-1 RDFS:Label : القارعة\n",
      "Verse: http://quranontology.com/Resource/quran101-1 RDFS:Label : The Striking Calamity -\n",
      "Verse: http://quranontology.com/Resource/quran19-1 RDFS:Label : كهيعص\n",
      "Verse: http://quranontology.com/Resource/quran19-1 RDFS:Label : Kaf, Ha, Ya, 'Ayn, Sad.\n",
      "Verse: http://quranontology.com/Resource/quran2-1 RDFS:Label : الم\n",
      "Verse: http://quranontology.com/Resource/quran2-1 RDFS:Label : Alif, Lam, Meem.\n",
      "Verse: http://quranontology.com/Resource/quran20-1 RDFS:Label : طه\n",
      "Verse: http://quranontology.com/Resource/quran20-1 RDFS:Label : Ta, Ha.\n",
      "Verse: http://quranontology.com/Resource/quran26-1 RDFS:Label : طسم\n",
      "Verse: http://quranontology.com/Resource/quran26-1 RDFS:Label : Ta, Seen, Meem.\n"
     ]
    }
   ],
   "source": [
    "qres = g_quran.query(\n",
    "    \n",
    "    \"\"\"\n",
    "    PREFIX : <http://quranontology.com/Resource/>\n",
    "    SELECT ?s ?p ?o\n",
    "    WHERE {\n",
    "        ?s rdf:type :Verse .\n",
    "        ?s rdfs:label ?o\n",
    "    }\n",
    "    LIMIT 10\n",
    "\n",
    "    \"\"\"\n",
    ")\n",
    "\n",
    "# Print the results\n",
    "for row in qres:\n",
    "    print(f'Verse: {row.s} RDFS:Label : {row.o}')\n",
    "    "
   ]
  },
  {
   "cell_type": "markdown",
   "id": "8685d9da",
   "metadata": {},
   "source": [
    "#### Findind tuples linked with predicate ' :MentionedIn ' "
   ]
  },
  {
   "cell_type": "code",
   "execution_count": 7,
   "id": "2b866caa",
   "metadata": {},
   "outputs": [
    {
     "name": "stdout",
     "output_type": "stream",
     "text": [
      " res 1 http://quranontology.com/Resource/Acacia :MentionedIn http://quranontology.com/Resource/quran56-29\n",
      " res 2 http://quranontology.com/Resource/Afternoon :MentionedIn http://quranontology.com/Resource/quran24-58\n",
      " res 3 http://quranontology.com/Resource/Late-Afternoon :MentionedIn http://quranontology.com/Resource/quran24-58\n",
      " res 4 http://quranontology.com/Resource/Dawn :MentionedIn http://quranontology.com/Resource/quran24-58\n",
      " res 5 http://quranontology.com/Resource/Ahmad :MentionedIn http://quranontology.com/Resource/quran61-6\n",
      " res 6 http://quranontology.com/Resource/Israel :MentionedIn http://quranontology.com/Resource/quran61-6\n",
      " res 7 http://quranontology.com/Resource/Maryam :MentionedIn http://quranontology.com/Resource/quran61-6\n",
      " res 8 http://quranontology.com/Resource/Jesus :MentionedIn http://quranontology.com/Resource/quran61-6\n",
      " res 9 http://quranontology.com/Resource/Children-of-Israel :MentionedIn http://quranontology.com/Resource/quran61-6\n",
      " res 10 http://quranontology.com/Resource/Al-Aaraf :MentionedIn http://quranontology.com/Resource/quran7-46\n"
     ]
    }
   ],
   "source": [
    "qres = g_quran.query(\n",
    "    \n",
    "    \"\"\"\n",
    "    PREFIX : <http://quranontology.com/Resource/>\n",
    "    SELECT ?s ?o\n",
    "    WHERE {\n",
    "        ?s :MentionedIn ?o .\n",
    "    }\n",
    "    Limit 10\n",
    "\n",
    "    \"\"\"\n",
    "    \n",
    ")\n",
    "\n",
    "i = 1\n",
    "\n",
    "# Print the results\n",
    "for row in qres:\n",
    "    print(f' res {i} {row.s} :MentionedIn {row.o}')\n",
    "    i += 1"
   ]
  },
  {
   "cell_type": "markdown",
   "id": "fd33cecb",
   "metadata": {},
   "source": [
    "####  Running a simple query on hadith graph"
   ]
  },
  {
   "cell_type": "code",
   "execution_count": 8,
   "id": "27aeecf5",
   "metadata": {},
   "outputs": [
    {
     "name": "stdout",
     "output_type": "stream",
     "text": [
      "<http://www.i-knex.com/ontology/hadith#SB-HD5357-ChainSeg-2> <http://www.w3.org/1999/02/22-rdf-syntax-ns#type> <http://www.i-knex.com/ontology/hadith#NarratorChainSegment>.\n",
      "<http://www.i-knex.com/ontology/hadith#SB-HD3799-ChainSeg-5> <http://www.w3.org/1999/02/22-rdf-syntax-ns#type> <http://www.w3.org/2002/07/owl#NamedIndividual>.\n",
      "<http://www.i-knex.com/ontology/hadith#SB-HD4006-ChainSeg-2> <http://www.i-knex.com/ontology/hadith#follows> <http://www.i-knex.com/ontology/hadith#SB-HD4006-ChainSeg-3>.\n",
      "<http://www.i-knex.com/ontology/hadith#SB-HD4277-ChainSeg-5> <http://www.w3.org/1999/02/22-rdf-syntax-ns#type> <http://www.i-knex.com/ontology/hadith#RootNarratorChainSegment>.\n",
      "<http://www.i-knex.com/ontology/hadith#SB-HD2075-Chain> <http://www.i-knex.com/ontology/hadith#hasNarratorSegment> <http://www.i-knex.com/ontology/hadith#SB-HD2075-ChainSeg-2>.\n",
      "<http://www.i-knex.com/ontology/hadith#SB-HD2117-ChainSeg-4> <http://www.i-knex.com/ontology/hadith#precedes> <http://www.i-knex.com/ontology/hadith#SB-HD2117-ChainSeg-3>.\n",
      "<http://www.i-knex.com/ontology/hadith#SB-CH3493> <http://www.i-knex.com/ontology/hadith#sequenceNo> <16>.\n",
      "<http://www.i-knex.com/ontology/hadith#SB-HD7431> <http://www.i-knex.com/ontology/hadith#hadithReferenceNo> <7431>.\n",
      "<http://www.i-knex.com/ontology/hadith#SB-CH1770> <http://www.w3.org/1999/02/22-rdf-syntax-ns#type> <http://www.w3.org/2002/07/owl#NamedIndividual>.\n",
      "<http://www.i-knex.com/ontology/hadith#SB-HD4623-ChainSeg-14> <http://www.i-knex.com/ontology/hadith#precedes> <http://www.i-knex.com/ontology/hadith#SB-HD4623-ChainSeg-13>.\n"
     ]
    }
   ],
   "source": [
    "# Run the query\n",
    "qres = g_hadith.query(\n",
    "    \"\"\"\n",
    "        SELECT ?s ?p ?o \n",
    "        WHERE {\n",
    "            ?s ?p ?o .\n",
    "        }\n",
    "        LIMIT 10\n",
    "    \"\"\"\n",
    ")\n",
    "\n",
    "# Print the results\n",
    "for row in qres:\n",
    "    print(\"<%s> <%s> <%s>.\" % ( row.s, row.p, row.o))\n"
   ]
  },
  {
   "cell_type": "code",
   "execution_count": null,
   "id": "e65c4446",
   "metadata": {},
   "outputs": [],
   "source": []
  }
 ],
 "metadata": {
  "kernelspec": {
   "display_name": "Python 3 (ipykernel)",
   "language": "python",
   "name": "python3"
  },
  "language_info": {
   "codemirror_mode": {
    "name": "ipython",
    "version": 3
   },
   "file_extension": ".py",
   "mimetype": "text/x-python",
   "name": "python",
   "nbconvert_exporter": "python",
   "pygments_lexer": "ipython3",
   "version": "3.10.7"
  }
 },
 "nbformat": 4,
 "nbformat_minor": 5
}
