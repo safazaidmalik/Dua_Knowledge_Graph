{
 "cells": [
  {
   "cell_type": "code",
   "execution_count": null,
   "id": "8d7a7ef7",
   "metadata": {},
   "outputs": [],
   "source": [
    "import pandas as pd\n",
    "import re\n",
    "\n",
    "df = pd.read_csv('Dua.csv')"
   ]
  },
  {
   "cell_type": "markdown",
   "id": "fd902569",
   "metadata": {},
   "source": [
    "#### The below code fetches all the references of Sahih Bukhari and Constructs and IRI out of it"
   ]
  },
  {
   "cell_type": "code",
   "execution_count": 65,
   "id": "09af5681",
   "metadata": {},
   "outputs": [
    {
     "name": "stdout",
     "output_type": "stream",
     "text": [
      "<http://www.i-knex.com/ontology/hadith#SB-HD6358>\n",
      "<http://www.i-knex.com/ontology/hadith#SB-HD3370>\n",
      "<http://www.i-knex.com/ontology/hadith#SB-HD143>\n",
      "<http://www.i-knex.com/ontology/hadith#SB-HD6347>\n",
      "<http://www.i-knex.com/ontology/hadith#SB-HD6369>\n",
      "<http://www.i-knex.com/ontology/hadith#SB-HD6399>\n",
      "<http://www.i-knex.com/ontology/hadith#SB-HD6370>\n",
      "<http://www.i-knex.com/ontology/hadith#SB-HD6368>\n",
      "<http://www.i-knex.com/ontology/hadith#SB-HD1890>\n",
      "<http://www.i-knex.com/ontology/hadith#SB-HD3742>\n",
      "<http://www.i-knex.com/ontology/hadith#SB-HD1154>\n",
      "<http://www.i-knex.com/ontology/hadith#SB-HD842>\n",
      "<http://www.i-knex.com/ontology/hadith#SB-HD6330>\n",
      "<http://www.i-knex.com/ontology/hadith#SB-HD2822>\n",
      "<http://www.i-knex.com/ontology/hadith#SB-HD5748>\n",
      "<http://www.i-knex.com/ontology/hadith#SB-HD4008>\n",
      "<http://www.i-knex.com/ontology/hadith#SB-HD5445>\n",
      "<http://www.i-knex.com/ontology/hadith#SB-HD6306>\n",
      "<http://www.i-knex.com/ontology/hadith#SB-HD5748>\n",
      "<http://www.i-knex.com/ontology/hadith#SB-HD3371>\n",
      "<http://www.i-knex.com/ontology/hadith#SB-HD6664>\n",
      "<http://www.i-knex.com/ontology/hadith#SB-HD3276>\n",
      "<http://www.i-knex.com/ontology/hadith#SB-HD5748>\n"
     ]
    }
   ],
   "source": [
    "df['Dua_IRI'] = ''\n",
    "\n",
    "for i, row in df.iterrows():\n",
    "    value = row['duaReference_ur']\n",
    "    if pd.isna(value) == False and ('صحیح البخاری' in value or 'صحیح البخا ری' in value):\n",
    "        numbers = re.findall(r'\\d+', value)\n",
    "        if numbers:\n",
    "            string1 = f'<http://www.i-knex.com/ontology/hadith#SB-HD{numbers[0]}>'\n",
    "            print(string1)\n",
    "            df.loc[i, 'Dua_IRI'] = string1 # stores data to dataframe in the column DUA_IRI"
   ]
  },
  {
   "cell_type": "markdown",
   "id": "17285479",
   "metadata": {},
   "source": []
  },
  {
   "cell_type": "code",
   "execution_count": null,
   "id": "12c79295",
   "metadata": {},
   "outputs": [],
   "source": [
    "df.to_csv('Dua_modified.csv', index=False)"
   ]
  },
  {
   "cell_type": "code",
   "execution_count": null,
   "id": "ac303c08",
   "metadata": {},
   "outputs": [],
   "source": []
  },
  {
   "cell_type": "code",
   "execution_count": 56,
   "id": "43827818",
   "metadata": {},
   "outputs": [],
   "source": []
  },
  {
   "cell_type": "code",
   "execution_count": null,
   "id": "a9048eeb",
   "metadata": {},
   "outputs": [],
   "source": []
  }
 ],
 "metadata": {
  "kernelspec": {
   "display_name": "Python 3 (ipykernel)",
   "language": "python",
   "name": "python3"
  },
  "language_info": {
   "codemirror_mode": {
    "name": "ipython",
    "version": 3
   },
   "file_extension": ".py",
   "mimetype": "text/x-python",
   "name": "python",
   "nbconvert_exporter": "python",
   "pygments_lexer": "ipython3",
   "version": "3.10.7"
  }
 },
 "nbformat": 4,
 "nbformat_minor": 5
}
