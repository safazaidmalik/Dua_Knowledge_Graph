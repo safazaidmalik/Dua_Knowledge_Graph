{
 "cells": [
  {
   "cell_type": "markdown",
   "id": "70adeeea",
   "metadata": {},
   "source": [
    "### Loading Quran Data Into a Graph\n"
   ]
  },
  {
   "cell_type": "code",
   "execution_count": 63,
   "id": "4a9660b1",
   "metadata": {},
   "outputs": [
    {
     "data": {
      "text/plain": [
       "<Graph identifier=Na95998e018ea456ab85d4bdbe2d758cd (<class 'rdflib.graph.Graph'>)>"
      ]
     },
     "execution_count": 63,
     "metadata": {},
     "output_type": "execute_result"
    }
   ],
   "source": [
    "from rdflib import Graph, Namespace\n",
    "from rdflib.namespace import RDF\n",
    "\n",
    "g_quran = Graph()\n",
    "g_quran.parse(\"quran_data_full.ttl\", format=\"turtle\")\n"
   ]
  },
  {
   "cell_type": "markdown",
   "id": "f5e9bf63",
   "metadata": {},
   "source": [
    "### Loading Semantic Hadith Data Into a Graph\n"
   ]
  },
  {
   "cell_type": "code",
   "execution_count": 121,
   "id": "11b11ada",
   "metadata": {},
   "outputs": [
    {
     "data": {
      "text/plain": [
       "<Graph identifier=N2a0bf93cc6fa47f292eca0dc14c27c66 (<class 'rdflib.graph.Graph'>)>"
      ]
     },
     "execution_count": 121,
     "metadata": {},
     "output_type": "execute_result"
    }
   ],
   "source": [
    "\n",
    "\n",
    "g_hadith = Graph()\n",
    "g_hadith.parse(\"SemanticHadithKG.rdf\")\n",
    "\n",
    "\n"
   ]
  },
  {
   "cell_type": "markdown",
   "id": "3444018a",
   "metadata": {},
   "source": [
    "#### Loading Duas Data Into a Graph\n"
   ]
  },
  {
   "cell_type": "code",
   "execution_count": 110,
   "id": "b2abb1bc",
   "metadata": {},
   "outputs": [
    {
     "data": {
      "text/plain": [
       "<Graph identifier=Ncf4f237cd86e4206927553289ca650dc (<class 'rdflib.graph.Graph'>)>"
      ]
     },
     "execution_count": 110,
     "metadata": {},
     "output_type": "execute_result"
    }
   ],
   "source": [
    "g_dua = Graph()\n",
    "g_dua.parse(\"Populated_Dua_KG.ttl\", format=\"turtle\")\n"
   ]
  },
  {
   "cell_type": "markdown",
   "id": "c61c9fda",
   "metadata": {},
   "source": [
    "#### Running a simple query on Duas Graph"
   ]
  },
  {
   "cell_type": "code",
   "execution_count": 118,
   "id": "0b42238f",
   "metadata": {},
   "outputs": [
    {
     "name": "stdout",
     "output_type": "stream",
     "text": [
      " http://www.semanticweb.org/szm/dua-ontology#Dua-Accepted-01 None None\n",
      " http://www.semanticweb.org/szm/dua-ontology#Dua-Accepted-02 None None\n",
      " http://www.semanticweb.org/szm/dua-ontology#Dua-Accepted-03 None None\n",
      " http://www.semanticweb.org/szm/dua-ontology#Dua-Accepted-04 None None\n",
      " http://www.semanticweb.org/szm/dua-ontology#Dua-Accepted-05 None None\n",
      " http://www.semanticweb.org/szm/dua-ontology#Dua-Accepted-06 None None\n",
      " http://www.semanticweb.org/szm/dua-ontology#Dua-AfterSalah-01 None None\n",
      " http://www.semanticweb.org/szm/dua-ontology#Dua-AfterSalah-02 None None\n",
      " http://www.semanticweb.org/szm/dua-ontology#Dua-AfterSalah-03 None None\n",
      " http://www.semanticweb.org/szm/dua-ontology#Dua-AfterSalah-04 None None\n"
     ]
    }
   ],
   "source": [
    "qres = g_dua.query(\n",
    "    \"\"\"\n",
    "        PREFIX : <http://www.semanticweb.org/szm/dua-ontology#>\n",
    "        SELECT ?s ?p ?o \n",
    "        WHERE {\n",
    "            ?s rdf:type :Dua .\n",
    "        }\n",
    "        LIMIT 10\n",
    "    \"\"\"\n",
    ")\n",
    "\n",
    "# Print the results\n",
    "for row in qres:\n",
    "    print(f' {row.s} {row.p} {row.o}')\n",
    "    "
   ]
  },
  {
   "cell_type": "markdown",
   "id": "e0e5760e",
   "metadata": {},
   "source": [
    "#### Running a simple query on Quran's Graph"
   ]
  },
  {
   "cell_type": "code",
   "execution_count": 65,
   "id": "91dd2691",
   "metadata": {},
   "outputs": [
    {
     "name": "stdout",
     "output_type": "stream",
     "text": [
      "<http://quranontology.com/Resource/quran4-77> <http://quranontology.com/Resource/InHizb> <9>.\n",
      "<http://quranontology.com/Resource/quran51-9-4> <http://quranontology.com/Resource/DisplayText> <أُفِكَ>.\n",
      "<http://quranontology.com/Resource/quran4-47-28> <http://quranontology.com/Resource/WordRoot> <فعل>.\n",
      "<http://quranontology.com/Resource/quran7-78-3> <http://quranontology.com/Resource/VerseIndex> <78>.\n",
      "<http://quranontology.com/Resource/quran9-62-9> <http://www.w3.org/1999/02/22-rdf-syntax-ns#type> <http://quranontology.com/Resource/Word>.\n",
      "<http://quranontology.com/Resource/quran92-16> <http://quranontology.com/Resource/descByMuyasser> <تفسير المیسر: لا يدخلها إلا مَن كان شديد الشقاء، الذي كذَّب نبي الله محمدًا صلى الله عليه وسلم، وأعرض عن الإيمان بالله ورسوله، وطاعتهما.>.\n",
      "<http://quranontology.com/Resource/quran31-28-9> <http://www.w3.org/1999/02/22-rdf-syntax-ns#type> <http://quranontology.com/Resource/Word>.\n",
      "<http://quranontology.com/Resource/quran8-60-24> <http://quranontology.com/Resource/WordRoot> <من>.\n",
      "<http://quranontology.com/Resource/quran7-199-3> <http://quranontology.com/Resource/VerseIndex> <199>.\n",
      "<http://quranontology.com/Resource/quran68-29-4> <http://quranontology.com/Resource/ChapterIndex> <68>.\n"
     ]
    }
   ],
   "source": [
    "# Run the query\n",
    "qres = g_quran.query(\n",
    "    \"\"\"\n",
    "        SELECT ?s ?p ?o \n",
    "        WHERE {\n",
    "            ?s ?p ?o .\n",
    "        }\n",
    "        LIMIT 10\n",
    "    \"\"\"\n",
    ")\n",
    "\n",
    "# Print the results\n",
    "for row in qres:\n",
    "    print(\"<%s> <%s> <%s>.\" % ( row.s, row.p, row.o))\n"
   ]
  },
  {
   "cell_type": "markdown",
   "id": "39698590",
   "metadata": {},
   "source": [
    "#### Running a query to fetch verses and their labels"
   ]
  },
  {
   "cell_type": "code",
   "execution_count": 99,
   "id": "d9a834ad",
   "metadata": {},
   "outputs": [
    {
     "name": "stdout",
     "output_type": "stream",
     "text": [
      "Verse: http://quranontology.com/Resource/quran101-1 RDFS:Label : القارعة\n",
      "Verse: http://quranontology.com/Resource/quran101-1 RDFS:Label : The Striking Calamity -\n",
      "Verse: http://quranontology.com/Resource/quran19-1 RDFS:Label : كهيعص\n",
      "Verse: http://quranontology.com/Resource/quran19-1 RDFS:Label : Kaf, Ha, Ya, 'Ayn, Sad.\n",
      "Verse: http://quranontology.com/Resource/quran2-1 RDFS:Label : الم\n",
      "Verse: http://quranontology.com/Resource/quran2-1 RDFS:Label : Alif, Lam, Meem.\n",
      "Verse: http://quranontology.com/Resource/quran20-1 RDFS:Label : طه\n",
      "Verse: http://quranontology.com/Resource/quran20-1 RDFS:Label : Ta, Ha.\n",
      "Verse: http://quranontology.com/Resource/quran26-1 RDFS:Label : طسم\n",
      "Verse: http://quranontology.com/Resource/quran26-1 RDFS:Label : Ta, Seen, Meem.\n"
     ]
    }
   ],
   "source": [
    "qres = g_quran.query(\n",
    "    \n",
    "    \"\"\"\n",
    "    PREFIX : <http://quranontology.com/Resource/>\n",
    "    SELECT ?s ?p ?o\n",
    "    WHERE {\n",
    "        ?s rdf:type :Verse .\n",
    "        ?s rdfs:label ?o\n",
    "    }\n",
    "    LIMIT 10\n",
    "\n",
    "    \"\"\"\n",
    ")\n",
    "\n",
    "# Print the results\n",
    "for row in qres:\n",
    "    print(f'Verse: {row.s} RDFS:Label : {row.o}')\n",
    "    "
   ]
  },
  {
   "cell_type": "markdown",
   "id": "8685d9da",
   "metadata": {},
   "source": [
    "#### Findind tuples linked with predicate ' :MentionedIn ' "
   ]
  },
  {
   "cell_type": "code",
   "execution_count": 108,
   "id": "2b866caa",
   "metadata": {},
   "outputs": [
    {
     "name": "stdout",
     "output_type": "stream",
     "text": [
      " res 1 http://quranontology.com/Resource/Acacia :MentionedIn http://quranontology.com/Resource/quran56-29\n",
      " res 2 http://quranontology.com/Resource/Afternoon :MentionedIn http://quranontology.com/Resource/quran24-58\n",
      " res 3 http://quranontology.com/Resource/Late-Afternoon :MentionedIn http://quranontology.com/Resource/quran24-58\n",
      " res 4 http://quranontology.com/Resource/Dawn :MentionedIn http://quranontology.com/Resource/quran24-58\n",
      " res 5 http://quranontology.com/Resource/Ahmad :MentionedIn http://quranontology.com/Resource/quran61-6\n",
      " res 6 http://quranontology.com/Resource/Israel :MentionedIn http://quranontology.com/Resource/quran61-6\n",
      " res 7 http://quranontology.com/Resource/Maryam :MentionedIn http://quranontology.com/Resource/quran61-6\n",
      " res 8 http://quranontology.com/Resource/Jesus :MentionedIn http://quranontology.com/Resource/quran61-6\n",
      " res 9 http://quranontology.com/Resource/Children-of-Israel :MentionedIn http://quranontology.com/Resource/quran61-6\n",
      " res 10 http://quranontology.com/Resource/Al-Aaraf :MentionedIn http://quranontology.com/Resource/quran7-46\n"
     ]
    }
   ],
   "source": [
    "qres = g_quran.query(\n",
    "    \n",
    "    \"\"\"\n",
    "    PREFIX : <http://quranontology.com/Resource/>\n",
    "    SELECT ?s ?o\n",
    "    WHERE {\n",
    "        ?s :MentionedIn ?o .\n",
    "    }\n",
    "    Limit 10\n",
    "\n",
    "    \"\"\"\n",
    "    \n",
    ")\n",
    "\n",
    "i = 1\n",
    "\n",
    "# Print the results\n",
    "for row in qres:\n",
    "    print(f' res {i} {row.s} :MentionedIn {row.o}')\n",
    "    i += 1"
   ]
  },
  {
   "cell_type": "markdown",
   "id": "fd33cecb",
   "metadata": {},
   "source": [
    "####  Running a simple query on hadith graph"
   ]
  },
  {
   "cell_type": "code",
   "execution_count": 90,
   "id": "27aeecf5",
   "metadata": {},
   "outputs": [
    {
     "name": "stdout",
     "output_type": "stream",
     "text": [
      "<http://www.lodislamica.me/ontology/hadithVoc#SB-CH2164> <http://www.lodislamica.me/ontology/hadithVoc#name> <باب: زمانہ جاہلیت کی قسامت کا بیان۔@ur>.\n",
      "<http://www.lodislamica.me/ontology/hadithVoc#SB-HD2431-ChainSeg-12> <http://www.lodislamica.me/ontology/hadithVoc#precedes> <http://www.lodislamica.me/ontology/hadithVoc#SB-HD2431-ChainSeg-11>.\n",
      "<http://www.lodislamica.me/ontology/hadithVoc#SB-HD3195-ChainSeg-4> <http://www.w3.org/1999/02/22-rdf-syntax-ns#type> <http://www.w3.org/2002/07/owl#NamedIndividual>.\n",
      "<http://www.lodislamica.me/ontology/hadithVoc#HN03746> <http://www.lodislamica.me/ontology/hadithVoc#popularName> <شبل بن عباد المكي>.\n",
      "<http://www.lodislamica.me/ontology/hadithVoc#SB-HD1289> <http://www.w3.org/1999/02/22-rdf-syntax-ns#seeAlso> <http://www.lodislamica.me/ontology/hadithVoc#SB-HD1289>.\n",
      "<http://www.lodislamica.me/ontology/hadithVoc#SB-HD3916> <http://www.lodislamica.me/ontology/hadithVoc#hadithURL> <http://islamicurdubooks.com/Sahih-Bukhari/Sahih-Bukhari-.php?hadith_number=3916>.\n",
      "<http://www.lodislamica.me/ontology/hadithVoc#HN03774> <http://www.lodislamica.me/ontology/hadithVoc#office> <عامل حمص>.\n",
      "<http://www.lodislamica.me/ontology/hadithVoc#SB-HD4917-ChainSeg-5> <http://www.w3.org/1999/02/22-rdf-syntax-ns#type> <http://www.w3.org/2002/07/owl#NamedIndividual>.\n",
      "<http://www.lodislamica.me/ontology/hadithVoc#SB-HD6492> <http://www.lodislamica.me/ontology/hadithVoc#hasHadithType> <http://www.lodislamica.me/ontology/hadithVoc#elevated>.\n",
      "<http://www.lodislamica.me/ontology/hadithVoc#HN05732> <http://www.lodislamica.me/ontology/hadithVoc#office> <السماك, الملائي>.\n"
     ]
    }
   ],
   "source": [
    "# Run the query\n",
    "qres = g_hadith.query(\n",
    "    \"\"\"\n",
    "        SELECT ?s ?p ?o \n",
    "        WHERE {\n",
    "            ?s ?p ?o .\n",
    "        }\n",
    "        LIMIT 10\n",
    "    \"\"\"\n",
    ")\n",
    "\n",
    "# Print the results\n",
    "for row in qres:\n",
    "    print(\"<%s> <%s> <%s>.\" % ( row.s, row.p, row.o))\n"
   ]
  },
  {
   "cell_type": "code",
   "execution_count": null,
   "id": "e65c4446",
   "metadata": {},
   "outputs": [],
   "source": []
  }
 ],
 "metadata": {
  "kernelspec": {
   "display_name": "Python 3 (ipykernel)",
   "language": "python",
   "name": "python3"
  },
  "language_info": {
   "codemirror_mode": {
    "name": "ipython",
    "version": 3
   },
   "file_extension": ".py",
   "mimetype": "text/x-python",
   "name": "python",
   "nbconvert_exporter": "python",
   "pygments_lexer": "ipython3",
   "version": "3.10.7"
  }
 },
 "nbformat": 4,
 "nbformat_minor": 5
}
